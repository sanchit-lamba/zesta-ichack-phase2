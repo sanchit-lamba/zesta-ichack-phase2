{
 "cells": [
  {
   "cell_type": "markdown",
   "id": "824d0b8e",
   "metadata": {},
   "source": [
    "# Team Zesta - Theme Computer Vision for the ICHack2.0 Phase-2 MUJ \n",
    "## (Problem Statement 2) - Advanced Autonomous Vehicle(AV) Self Driving System\n",
    "#### Technolgies/Softwares/Non-Standard libraries used: \n",
    "   - CARLA (Open Source AV Simulator)\n",
    "   - Keras (To implement Deep Learning Models)\n",
    "   - Tensorflow (To train the model weights)\n",
    "   - Pygame (To enable the model to imitate human-like input to the simulator)\n",
    "   - OpenCV (To fetch and display/manipulate the data collected from virtual senors, videlicet, RGB Camera, LiDAR, Collision Detector)"
   ]
  },
  {
   "cell_type": "code",
   "execution_count": 1,
   "id": "230ac814",
   "metadata": {
    "ExecuteTime": {
     "end_time": "2023-10-22T18:16:39.365234400Z",
     "start_time": "2023-10-22T18:16:38.309235100Z"
    }
   },
   "outputs": [],
   "source": [
    "# Importing standard libraries\n",
    "import numpy as np\n",
    "from matplotlib import pyplot as plt\n",
    "import pandas as pd\n",
    "import random\n",
    "import time\n",
    "import os"
   ]
  },
  {
   "cell_type": "code",
   "execution_count": 2,
   "id": "918b653a",
   "metadata": {
    "ExecuteTime": {
     "end_time": "2023-10-22T18:16:45.025256100Z",
     "start_time": "2023-10-22T18:16:40.364122800Z"
    }
   },
   "outputs": [],
   "source": [
    "# Importing Machine Learning & Deep Learning Libraries\n",
    "# Installed tensorflow directML instead in order to have AMD GPU support in Windows 10 for model training\n",
    "import tensorflow as tf"
   ]
  },
  {
   "cell_type": "code",
   "execution_count": 3,
   "outputs": [
    {
     "data": {
      "text/plain": "[PhysicalDevice(name='/physical_device:GPU:0', device_type='GPU'),\n PhysicalDevice(name='/physical_device:GPU:1', device_type='GPU')]"
     },
     "execution_count": 3,
     "metadata": {},
     "output_type": "execute_result"
    }
   ],
   "source": [
    "# Avoid OOM errors by setting GPU Memory Consumption Growth and making sure that the dedicated gpus are recognizable to tensorflow\n",
    "gpus = tf.config.experimental.list_physical_devices('GPU')\n",
    "for gpu in gpus:\n",
    "    tf.config.experimental.set_memory_growth(gpu, True)\n",
    "gpus"
   ],
   "metadata": {
    "collapsed": false,
    "ExecuteTime": {
     "end_time": "2023-10-22T18:16:47.300784800Z",
     "start_time": "2023-10-22T18:16:47.246787200Z"
    }
   },
   "id": "34763218da257835"
  },
  {
   "cell_type": "code",
   "execution_count": 4,
   "outputs": [
    {
     "name": "stderr",
     "output_type": "stream",
     "text": [
      "<frozen importlib._bootstrap>:219: RuntimeWarning: Your system is avx2 capable but pygame was not built with support for it. The performance of some of your blits could be adversely affected. Consider enabling compile time detection with environment variables like PYGAME_DETECT_AVX2=1 if you are compiling without cross compilation.\n"
     ]
    },
    {
     "name": "stdout",
     "output_type": "stream",
     "text": [
      "pygame 2.5.2 (SDL 2.28.4, Python 3.8.18)\n",
      "Hello from the pygame community. https://www.pygame.org/contribute.html\n"
     ]
    }
   ],
   "source": [
    "import carla\n",
    "import pygame\n",
    "\n",
    "client = carla.Client('localhost', 2000)\n",
    "client.set_timeout(5.0)\n",
    "world = client.load_world(\n",
    "    'Town05'\n",
    ")\n",
    "\n",
    "bp_lib = world.get_blueprint_library()"
   ],
   "metadata": {
    "collapsed": false,
    "ExecuteTime": {
     "end_time": "2023-10-22T18:16:55.780242500Z",
     "start_time": "2023-10-22T18:16:50.525349600Z"
    }
   },
   "id": "f4c1ccdff9bbe9b7"
  },
  {
   "cell_type": "code",
   "execution_count": 5,
   "outputs": [],
   "source": [
    "world.wait_for_tick()\n",
    "actor_list = world.get_actors().filter(\n",
    "    '*model3*'\n",
    ")\n",
    "vehicle_list = []\n",
    "for vehicle in actor_list:\n",
    "    vehicle_list.append(vehicle)\n",
    "\n",
    "vehicle = vehicle_list[0]\n",
    "\n",
    "def set_spectator(world):\n",
    "    spectator = world.get_spectator()\n",
    "    transform = carla.Transform(vehicle.get_transform().transform(carla.Location(x=-8, z=3)), vehicle.get_transform().rotation)\n",
    "    spectator.set_transform(transform)\n",
    "\n",
    "set_spectator(world)\n",
    "spawn_points = world.get_map().get_spawn_points()"
   ],
   "metadata": {
    "collapsed": false,
    "ExecuteTime": {
     "end_time": "2023-10-22T18:18:22.991767600Z",
     "start_time": "2023-10-22T18:18:22.718766400Z"
    }
   },
   "id": "33d70bcdcef2f77c"
  },
  {
   "cell_type": "code",
   "execution_count": 6,
   "outputs": [],
   "source": [
    "# NPC Traffic. \n",
    "for i in range(200):\n",
    "    vehicle_bp = random.choice(bp_lib.filter('vehicle'))\n",
    "    npc = world.try_spawn_actor(vehicle_bp, random.choice(spawn_points))\n",
    "\n",
    "#Set traffic in motion\n",
    "for v in world.get_actors().filter('*vehicle*'):\n",
    "    v.set_autopilot(True)\n",
    "    \n",
    "# Making sure that the non-deep-learning model is built into the simulator is turned off\n",
    "vehicle.set_autopilot(False)"
   ],
   "metadata": {
    "collapsed": false,
    "ExecuteTime": {
     "end_time": "2023-10-22T18:18:26.423763800Z",
     "start_time": "2023-10-22T18:18:22.996767100Z"
    }
   },
   "id": "198b908e88040cae"
  },
  {
   "cell_type": "code",
   "execution_count": null,
   "outputs": [],
   "source": [
    "# Real-Time RGBA sensor/camera footage\n",
    "import queue\n",
    "import cv2\n",
    "from collections import deque\n",
    "camera_bp = bp_lib.find('sensor.camera.rgb')\n",
    "camera_init_trans = carla.Transform(carla.Location(x =-2,z=10))\n",
    "\n",
    "camera_bp.set_attribute('image_size_x', '1024')\n",
    "camera_bp.set_attribute('image_size_y', '720')\n",
    "\n",
    "camera = world.spawn_actor(camera_bp, camera_init_trans, attach_to=vehicle)\n",
    "\n",
    "image_queue = queue.Queue()\n",
    "camera.listen(image_queue.put)\n",
    "\n",
    "while True:\n",
    "    # Retrieve and reshape the image\n",
    "    world.tick()\n",
    "    image = image_queue.get()\n",
    "\n",
    "    img = np.reshape(np.copy(image.raw_data), (image.height, image.width, 4))\n",
    "    cv2.imshow('ImageWindowName',img)\n",
    "    plt.imshow(img)\n",
    "    if cv2.waitKey(1) == ord('q'):\n",
    "        break\n",
    "cv2.destroyAllWindows()"
   ],
   "metadata": {
    "collapsed": false,
    "ExecuteTime": {
     "start_time": "2023-10-22T08:31:03.247650800Z"
    }
   },
   "id": "b0ca26014cafa02f"
  },
  {
   "cell_type": "markdown",
   "source": [
    "# Semantic Segmentation of lanes using a RGBA Camera\n",
    "- Making using of a CNN Algorithm to semantically segment the camera footage post pre-processing"
   ],
   "metadata": {
    "collapsed": false
   },
   "id": "52fb9b67e83d2d2d"
  },
  {
   "cell_type": "code",
   "execution_count": 19,
   "outputs": [],
   "source": [
    "img_dir = os.path.join('archive', 'train_label', 'Town04_Clear_Noon_09_09_2020_14_57_22_frame_0_label.png')"
   ],
   "metadata": {
    "collapsed": false,
    "ExecuteTime": {
     "start_time": "2023-10-22T08:22:29.754890600Z"
    }
   },
   "id": "f5e9f45339af4a22"
  },
  {
   "cell_type": "code",
   "execution_count": 7,
   "outputs": [
    {
     "data": {
      "text/plain": "<matplotlib.image.AxesImage at 0x26b2dc397c0>"
     },
     "execution_count": 7,
     "metadata": {},
     "output_type": "execute_result"
    },
    {
     "data": {
      "text/plain": "<Figure size 640x480 with 1 Axes>",
      "image/png": "[encoded data removed]"
     },
     "metadata": {},
     "output_type": "display_data"
    }
   ],
   "source": [
    "import cv2\n",
    "img = cv2.imread(img_dir)\n",
    "plt.imshow(100*cv2.cvtColor(img, cv2.COLOR_BGR2RGB))"
   ],
   "metadata": {
    "collapsed": false,
    "ExecuteTime": {
     "start_time": "2023-10-22T05:23:12.340619Z"
    }
   },
   "id": "30612b265948431d"
  },
  {
   "cell_type": "markdown",
   "source": [],
   "metadata": {
    "collapsed": false
   },
   "id": "853e6cb3613330ca"
  },
  {
   "cell_type": "markdown",
   "source": [
    "### Training of the data set continued in model_build.ipynb"
   ],
   "metadata": {
    "collapsed": false
   },
   "id": "571de39195b88f9c"
  },
  {
   "cell_type": "code",
   "execution_count": null,
   "outputs": [],
   "source": [],
   "metadata": {
    "collapsed": false
   },
   "id": "16f831a75521d178"
  }
 ],
 "metadata": {
  "kernelspec": {
   "display_name": "Python 3",
   "language": "python",
   "name": "python3"
  },
  "language_info": {
   "codemirror_mode": {
    "name": "ipython",
    "version": 3
   },
   "file_extension": ".py",
   "mimetype": "text/x-python",
   "name": "python",
   "nbconvert_exporter": "python",
   "pygments_lexer": "ipython3",
   "version": "3.6.13"
  }
 },
 "nbformat": 4,
 "nbformat_minor": 5
}
